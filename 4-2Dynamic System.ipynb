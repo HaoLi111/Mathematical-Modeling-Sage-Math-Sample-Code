{
 "cells": [
  {
   "cell_type": "markdown",
   "metadata": {},
   "source": [
    "##Declare Symbolic Variables"
   ]
  },
  {
   "cell_type": "code",
   "execution_count": 12,
   "metadata": {},
   "outputs": [],
   "source": [
    "B,F = var('B F')\n",
    "gB,gF = var('gB gF')\n",
    "cB,cF =var('cB cF')\n",
    "alpha =var('alpha')"
   ]
  },
  {
   "cell_type": "code",
   "execution_count": 13,
   "metadata": {},
   "outputs": [],
   "source": [
    "#Assumptions\n",
    "gB = .05*B*(1-B/150000)\n",
    "gF = .08*F*(1-F/400000)\n",
    "cB = alpha*B*F\n",
    "cF =cB\n",
    "#alpha>0"
   ]
  },
  {
   "cell_type": "code",
   "execution_count": 14,
   "metadata": {},
   "outputs": [],
   "source": [
    "f1(B,F) = gB - cB\n",
    "f2(B,F) = gF - cF"
   ]
  },
  {
   "cell_type": "code",
   "execution_count": 15,
   "metadata": {},
   "outputs": [
    {
     "data": {
      "text/html": [
       "<html><script type=\"math/tex; mode=display\">\\newcommand{\\Bold}[1]{\\mathbf{#1}}\\left( B, F \\right) \\ {\\mapsto} \\ -B F \\alpha - \\left(3.33333333333333 \\times 10^{-7}\\right) \\, {\\left(B - 150000\\right)} B</script></html>"
      ],
      "text/plain": [
       "(B, F) |--> -B*F*alpha - (3.33333333333333e-7)*(B - 150000)*B"
      ]
     },
     "metadata": {},
     "output_type": "display_data"
    },
    {
     "data": {
      "text/html": [
       "<html><script type=\"math/tex; mode=display\">\\newcommand{\\Bold}[1]{\\mathbf{#1}}\\left( B, F \\right) \\ {\\mapsto} \\ -B F \\alpha - \\left(2.00000000000000 \\times 10^{-7}\\right) \\, {\\left(F - 400000\\right)} F</script></html>"
      ],
      "text/plain": [
       "(B, F) |--> -B*F*alpha - (2.00000000000000e-7)*(F - 400000)*F"
      ]
     },
     "metadata": {},
     "output_type": "display_data"
    }
   ],
   "source": [
    "show(f1);show(f2)"
   ]
  },
  {
   "cell_type": "code",
   "execution_count": 16,
   "metadata": {},
   "outputs": [
    {
     "data": {
      "text/html": [
       "<html><script type=\"math/tex; mode=display\">\\newcommand{\\Bold}[1]{\\mathbf{#1}}-B F \\alpha - \\left(3.33333333333333 \\times 10^{-7}\\right) \\, {\\left(B - 150000\\right)} B = 0</script></html>"
      ],
      "text/plain": [
       "-B*F*alpha - (3.33333333333333e-7)*(B - 150000)*B == 0"
      ]
     },
     "metadata": {},
     "output_type": "display_data"
    },
    {
     "data": {
      "text/html": [
       "<html><script type=\"math/tex; mode=display\">\\newcommand{\\Bold}[1]{\\mathbf{#1}}-B F \\alpha - \\left(2.00000000000000 \\times 10^{-7}\\right) \\, {\\left(F - 400000\\right)} F = 0</script></html>"
      ],
      "text/plain": [
       "-B*F*alpha - (2.00000000000000e-7)*(F - 400000)*F == 0"
      ]
     },
     "metadata": {},
     "output_type": "display_data"
    },
    {
     "data": {
      "text/html": [
       "<html><script type=\"math/tex; mode=display\">\\newcommand{\\Bold}[1]{\\mathbf{#1}}\\left[\\left[B = 0, F = 0\\right], \\left[B = 150000, F = 0\\right], \\left[B = 0, F = 400000\\right], \\left[B = \\frac{150000 \\, {\\left(8000000 \\, \\alpha - 1\\right)}}{15000000000000 \\, \\alpha^{2} - 1}, F = \\frac{400000 \\, {\\left(1875000 \\, \\alpha - 1\\right)}}{15000000000000 \\, \\alpha^{2} - 1}\\right]\\right]</script></html>"
      ],
      "text/plain": [
       "[[B == 0, F == 0], [B == 150000, F == 0], [B == 0, F == 400000], [B == 150000*(8000000*alpha - 1)/(15000000000000*alpha^2 - 1), F == 400000*(1875000*alpha - 1)/(15000000000000*alpha^2 - 1)]]"
      ]
     },
     "metadata": {},
     "output_type": "display_data"
    }
   ],
   "source": [
    "E1= f1(B,F) == 0\n",
    "E2= f2(B,F) == 0\n",
    "S = solve([E1,E2],[B,F])\n",
    "show(E1);show(E2)\n",
    "show(S)"
   ]
  },
  {
   "cell_type": "code",
   "execution_count": 30,
   "metadata": {},
   "outputs": [
    {
     "data": {
      "text/html": [
       "<html><script type=\"math/tex; mode=display\">\\newcommand{\\Bold}[1]{\\mathbf{#1}}\\left[B = \\frac{150000 \\, {\\left(8000000 \\, \\alpha - 1\\right)}}{15000000000000 \\, \\alpha^{2} - 1}, F = \\frac{400000 \\, {\\left(1875000 \\, \\alpha - 1\\right)}}{15000000000000 \\, \\alpha^{2} - 1}\\right]</script></html>"
      ],
      "text/plain": [
       "[B == 150000*(8000000*alpha - 1)/(15000000000000*alpha^2 - 1),\n",
       " F == 400000*(1875000*alpha - 1)/(15000000000000*alpha^2 - 1)]"
      ]
     },
     "metadata": {},
     "output_type": "display_data"
    },
    {
     "name": "stdout",
     "output_type": "stream",
     "text": [
      "B == (600000/17)\n",
      "F == (6500000/17)\n"
     ]
    }
   ],
   "source": [
    "#Case 1 alpha =10^-7\n",
    "S2 = S[3];show(S2)\n",
    "print(S2[0].subs(alpha=10^-7))\n",
    "print(S2[1].subs(alpha=10^-7))"
   ]
  },
  {
   "cell_type": "code",
   "execution_count": null,
   "metadata": {},
   "outputs": [],
   "source": [
    "#f1 = f1.subs(alpha = 10^-7)\n",
    "#f2 = f2.subs(alpha = 10^-7)\n",
    "#implicit_plot(f1=)"
   ]
  }
 ],
 "metadata": {
  "kernelspec": {
   "display_name": "SageMath 8.3",
   "language": "",
   "name": "sagemath"
  },
  "language_info": {
   "codemirror_mode": {
    "name": "ipython",
    "version": 2
   },
   "file_extension": ".py",
   "mimetype": "text/x-python",
   "name": "python",
   "nbconvert_exporter": "python",
   "pygments_lexer": "ipython2",
   "version": "2.7.15"
  }
 },
 "nbformat": 4,
 "nbformat_minor": 2
}
