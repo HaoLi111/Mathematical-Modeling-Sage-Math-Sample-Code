{
 "cells": [
  {
   "cell_type": "markdown",
   "metadata": {},
   "source": [
    "##4-1 Dynamic Models"
   ]
  },
  {
   "cell_type": "markdown",
   "metadata": {},
   "source": [
    "##Declare Symbolic Variables"
   ]
  },
  {
   "cell_type": "code",
   "execution_count": 5,
   "metadata": {},
   "outputs": [],
   "source": [
    "H,S,gH,gS,cH,cS = var('H S gH gS cH cS')\n",
    "r1,r2,a1,a2,b1,b2 = var('r1 r2 a1 a2 b1 b2')"
   ]
  },
  {
   "cell_type": "markdown",
   "metadata": {},
   "source": [
    "For which\n",
    "$$\\frac{dH}{dt} = g_H - c_H$$\n",
    "$$\\frac{dS}{dt} = g_S - c_S$$"
   ]
  },
  {
   "cell_type": "code",
   "execution_count": 7,
   "metadata": {},
   "outputs": [],
   "source": [
    "gH=r1*H - a1*H^2\n",
    "gS=r2*S - a2*S^2\n",
    "cH = b1*S*H\n",
    "cS = b2*S*H"
   ]
  },
  {
   "cell_type": "code",
   "execution_count": 11,
   "metadata": {},
   "outputs": [
    {
     "data": {
      "text/html": [
       "<html><script type=\"math/tex; mode=display\">\\newcommand{\\Bold}[1]{\\mathbf{#1}}-H^{2} a_{1} + H r_{1}</script></html>"
      ],
      "text/plain": [
       "-H^2*a1 + H*r1"
      ]
     },
     "metadata": {},
     "output_type": "display_data"
    },
    {
     "data": {
      "text/html": [
       "<html><script type=\"math/tex; mode=display\">\\newcommand{\\Bold}[1]{\\mathbf{#1}}-S^{2} a_{2} + S r_{2}</script></html>"
      ],
      "text/plain": [
       "-S^2*a2 + S*r2"
      ]
     },
     "metadata": {},
     "output_type": "display_data"
    },
    {
     "data": {
      "text/html": [
       "<html><script type=\"math/tex; mode=display\">\\newcommand{\\Bold}[1]{\\mathbf{#1}}H S b_{1}</script></html>"
      ],
      "text/plain": [
       "H*S*b1"
      ]
     },
     "metadata": {},
     "output_type": "display_data"
    },
    {
     "data": {
      "text/html": [
       "<html><script type=\"math/tex; mode=display\">\\newcommand{\\Bold}[1]{\\mathbf{#1}}H S b_{2}</script></html>"
      ],
      "text/plain": [
       "H*S*b2"
      ]
     },
     "metadata": {},
     "output_type": "display_data"
    }
   ],
   "source": [
    "show(gH)\n",
    "show(gS)\n",
    "show(cH)\n",
    "show(cS)"
   ]
  },
  {
   "cell_type": "markdown",
   "metadata": {},
   "source": [
    "##Solve for static state"
   ]
  },
  {
   "cell_type": "code",
   "execution_count": 14,
   "metadata": {},
   "outputs": [
    {
     "data": {
      "text/html": [
       "<html><script type=\"math/tex; mode=display\">\\newcommand{\\Bold}[1]{\\mathbf{#1}}-H^{2} a_{1} - H S b_{1} + H r_{1} = 0</script></html>"
      ],
      "text/plain": [
       "-H^2*a1 - H*S*b1 + H*r1 == 0"
      ]
     },
     "metadata": {},
     "output_type": "display_data"
    },
    {
     "data": {
      "text/html": [
       "<html><script type=\"math/tex; mode=display\">\\newcommand{\\Bold}[1]{\\mathbf{#1}}-S^{2} a_{2} - H S b_{2} + S r_{2} = 0</script></html>"
      ],
      "text/plain": [
       "-S^2*a2 - H*S*b2 + S*r2 == 0"
      ]
     },
     "metadata": {},
     "output_type": "display_data"
    }
   ],
   "source": [
    "E1= gH-cH==0\n",
    "E2= gS-cS==0\n",
    "show(E1);show(E2)"
   ]
  },
  {
   "cell_type": "code",
   "execution_count": 16,
   "metadata": {},
   "outputs": [
    {
     "data": {
      "text/html": [
       "<html><script type=\"math/tex; mode=display\">\\newcommand{\\Bold}[1]{\\mathbf{#1}}\\left[\\left[H = 0, S = 0\\right], \\left[H = \\frac{r_{1}}{a_{1}}, S = 0\\right], \\left[H = 0, S = \\frac{r_{2}}{a_{2}}\\right], \\left[H = \\frac{a_{2} r_{1} - b_{1} r_{2}}{a_{1} a_{2} - b_{1} b_{2}}, S = -\\frac{b_{2} r_{1} - a_{1} r_{2}}{a_{1} a_{2} - b_{1} b_{2}}\\right]\\right]</script></html>"
      ],
      "text/plain": [
       "[[H == 0, S == 0], [H == r1/a1, S == 0], [H == 0, S == r2/a2], [H == (a2*r1 - b1*r2)/(a1*a2 - b1*b2), S == -(b2*r1 - a1*r2)/(a1*a2 - b1*b2)]]"
      ]
     },
     "metadata": {},
     "output_type": "display_data"
    }
   ],
   "source": [
    "S = solve([E1,E2],[H,S])\n",
    "show(S)"
   ]
  },
  {
   "cell_type": "code",
   "execution_count": null,
   "metadata": {},
   "outputs": [],
   "source": []
  }
 ],
 "metadata": {
  "kernelspec": {
   "display_name": "SageMath 8.3",
   "language": "",
   "name": "sagemath"
  },
  "language_info": {
   "codemirror_mode": {
    "name": "ipython",
    "version": 2
   },
   "file_extension": ".py",
   "mimetype": "text/x-python",
   "name": "python",
   "nbconvert_exporter": "python",
   "pygments_lexer": "ipython2",
   "version": "2.7.15"
  }
 },
 "nbformat": 4,
 "nbformat_minor": 2
}
